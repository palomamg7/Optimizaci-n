{
 "cells": [
  {
   "cell_type": "code",
   "execution_count": 2,
   "metadata": {},
   "outputs": [],
   "source": [
    "%matplotlib notebook\n",
    "from sympy import *\n",
    "import numpy as np\n",
    "import matplotlib.pyplot as plt\n",
    "init_printing ()"
   ]
  },
  {
   "cell_type": "code",
   "execution_count": 5,
   "metadata": {},
   "outputs": [
    {
     "data": {
      "image/png": "[encoded data removed]",
      "text/latex": [
       "$$\\left ( x, \\quad y\\right )$$"
      ],
      "text/plain": [
       "(x, y)"
      ]
     },
     "execution_count": 5,
     "metadata": {},
     "output_type": "execute_result"
    }
   ],
   "source": [
    "#encontrar el area que minimize el costo del metal\n",
    "var(\"x y\")"
   ]
  },
  {
   "cell_type": "code",
   "execution_count": 9,
   "metadata": {},
   "outputs": [
    {
     "data": {
      "image/png": "[encoded data removed]",
      "text/latex": [
       "$$\\left ( 2 x, \\quad 2 y, \\quad \\left \\{ x : 0, \\quad y : 0\\right \\}\\right )$$"
      ],
      "text/plain": [
       "(2⋅x, 2⋅y, {x: 0, y: 0})"
      ]
     },
     "execution_count": 9,
     "metadata": {},
     "output_type": "execute_result"
    }
   ],
   "source": [
    "f=x**2+y**2\n",
    "dfx=f.diff(x)\n",
    "dfy=f.diff(y)\n",
    "pc=solve([dfx,dfy], [x,y])\n",
    "dfx,dfy,pc"
   ]
  },
  {
   "cell_type": "code",
   "execution_count": 11,
   "metadata": {},
   "outputs": [
    {
     "data": {
      "image/png": "[encoded data removed]",
      "text/latex": [
       "$$\\left ( 4, \\quad 2\\right )$$"
      ],
      "text/plain": [
       "(4, 2)"
      ]
     },
     "execution_count": 11,
     "metadata": {},
     "output_type": "execute_result"
    }
   ],
   "source": [
    "dfxx=dfx.diff(x)\n",
    "dfxy=dfx.diff(y)\n",
    "dfyx=dfy.diff(x)\n",
    "dfyy=dfy.diff(y)\n",
    "D=dfxx*dfyy-dfxy\n",
    "D.subs(pc),dfxx.subs(pc)\n"
   ]
  },
  {
   "cell_type": "code",
   "execution_count": 12,
   "metadata": {},
   "outputs": [
    {
     "data": {
      "text/latex": [
       "$$\\left[\\begin{matrix}2 & 0\\\\0 & 2\\end{matrix}\\right]$$"
      ],
      "text/plain": [
       "⎡2  0⎤\n",
       "⎢    ⎥\n",
       "⎣0  2⎦"
      ]
     },
     "execution_count": 12,
     "metadata": {},
     "output_type": "execute_result"
    }
   ],
   "source": [
    "H=hessian(f,[x,y])\n",
    "H\n",
    "#Como saber si la matriz es positiva o negativa. "
   ]
  },
  {
   "cell_type": "code",
   "execution_count": 17,
   "metadata": {},
   "outputs": [
    {
     "data": {
      "image/png": "[encoded data removed]",
      "text/latex": [
       "$$x^{3} + 3 x^{2} + 3 y^{3} + 3 y^{2} + 24$$"
      ],
      "text/plain": [
       " 3      2      3      2     \n",
       "x  + 3⋅x  + 3⋅y  + 3⋅y  + 24"
      ]
     },
     "execution_count": 17,
     "metadata": {},
     "output_type": "execute_result"
    }
   ],
   "source": [
    "f=x**3+3*y**3+3*x**2+3*y**2+24\n",
    "f"
   ]
  },
  {
   "cell_type": "code",
   "execution_count": 18,
   "metadata": {},
   "outputs": [
    {
     "data": {
      "image/png": "[encoded data removed]",
      "text/latex": [
       "$$\\left [ 3 x^{2} + 6 x, \\quad 9 y^{2} + 6 y\\right ]$$"
      ],
      "text/plain": [
       "⎡   2           2      ⎤\n",
       "⎣3⋅x  + 6⋅x, 9⋅y  + 6⋅y⎦"
      ]
     },
     "execution_count": 18,
     "metadata": {},
     "output_type": "execute_result"
    }
   ],
   "source": [
    "#gradient\n",
    "nablaf=[f.diff(var) for var in [x,y]]\n",
    "nablaf"
   ]
  },
  {
   "cell_type": "code",
   "execution_count": 19,
   "metadata": {},
   "outputs": [
    {
     "data": {
      "image/png": "[encoded data removed]",
      "text/latex": [
       "$$\\left [ \\left \\{ x : -2, \\quad y : - \\frac{2}{3}\\right \\}, \\quad \\left \\{ x : -2, \\quad y : 0\\right \\}, \\quad \\left \\{ x : 0, \\quad y : - \\frac{2}{3}\\right \\}, \\quad \\left \\{ x : 0, \\quad y : 0\\right \\}\\right ]$$"
      ],
      "text/plain": [
       "[{x: -2, y: -2/3}, {x: -2, y: 0}, {x: 0, y: -2/3}, {x: 0, y: 0}]"
      ]
     },
     "execution_count": 19,
     "metadata": {},
     "output_type": "execute_result"
    }
   ],
   "source": [
    "#puntos criticos\n",
    "pcs=solve(nablaf)\n",
    "pcs"
   ]
  },
  {
   "cell_type": "code",
   "execution_count": 20,
   "metadata": {},
   "outputs": [
    {
     "data": {
      "text/latex": [
       "$$\\left[\\begin{matrix}6 x + 6 & 0\\\\0 & 18 y + 6\\end{matrix}\\right]$$"
      ],
      "text/plain": [
       "⎡6⋅x + 6     0    ⎤\n",
       "⎢                 ⎥\n",
       "⎣   0     18⋅y + 6⎦"
      ]
     },
     "execution_count": 20,
     "metadata": {},
     "output_type": "execute_result"
    }
   ],
   "source": [
    "H=hessian(f,[x,y])\n",
    "H"
   ]
  },
  {
   "cell_type": "code",
   "execution_count": 21,
   "metadata": {},
   "outputs": [
    {
     "name": "stdout",
     "output_type": "stream",
     "text": [
      "punto critico {x: -2, y: -2/3} Sus eigenvaloresson: {-6: 2}\n",
      "punto critico {x: -2, y: 0} Sus eigenvaloresson: {-6: 1, 6: 1}\n",
      "punto critico {x: 0, y: -2/3} Sus eigenvaloresson: {-6: 1, 6: 1}\n",
      "punto critico {x: 0, y: 0} Sus eigenvaloresson: {6: 2}\n"
     ]
    }
   ],
   "source": [
    "for pc in pcs:\n",
    "    eig=H.subs(pc).eigenvals()\n",
    "    print(\"punto critico\", pc, \"Sus eigenvaloresson:\", eig)"
   ]
  },
  {
   "cell_type": "markdown",
   "metadata": {},
   "source": [
    "# Utilizando librerias Python"
   ]
  },
  {
   "cell_type": "code",
   "execution_count": 26,
   "metadata": {},
   "outputs": [
    {
     "name": "stdout",
     "output_type": "stream",
     "text": [
      "Collecting pulp\n",
      "\u001b[?25l  Downloading https://files.pythonhosted.org/packages/b5/87/71293d89377341551f2f331d259c0b7e7324b60ce37c597d0a42f0ebc18d/PuLP-1.6.8.tar.gz (13.5MB)\n",
      "\u001b[K    100% |████████████████████████████████| 13.5MB 1.4MB/s eta 0:00:01    87% |████████████████████████████    | 11.9MB 3.6MB/s eta 0:00:01\n",
      "\u001b[?25hRequirement already satisfied: pyparsing>=2.0.1 in /Users/air11/anaconda3/lib/python3.6/site-packages (from pulp) (2.2.0)\n",
      "Building wheels for collected packages: pulp\n",
      "  Running setup.py bdist_wheel for pulp ... \u001b[?25ldone\n",
      "\u001b[?25h  Stored in directory: /Users/air11/Library/Caches/pip/wheels/cd/1a/23/d1947610005912274e128267c5ed1bcc1fe6dece9f2d4d1c84\n",
      "Successfully built pulp\n",
      "\u001b[31mdistributed 1.21.8 requires msgpack, which is not installed.\u001b[0m\n",
      "Installing collected packages: pulp\n",
      "Successfully installed pulp-1.6.8\n",
      "\u001b[33mYou are using pip version 10.0.1, however version 18.0 is available.\n",
      "You should consider upgrading via the 'pip install --upgrade pip' command.\u001b[0m\n"
     ]
    }
   ],
   "source": [
    "!pip install pulp"
   ]
  },
  {
   "cell_type": "code",
   "execution_count": 28,
   "metadata": {},
   "outputs": [],
   "source": [
    "from pulp import *"
   ]
  },
  {
   "cell_type": "code",
   "execution_count": 30,
   "metadata": {},
   "outputs": [],
   "source": [
    "pulp.LpVariable?"
   ]
  },
  {
   "cell_type": "code",
   "execution_count": 32,
   "metadata": {},
   "outputs": [],
   "source": [
    "mi_lp_problema=pulp.LpProblem(\"Mi LP problema\",pulp.LpMinimize)\n",
    "x=pulp.LpVariable('x',lowBound=0,cat='Continuous')\n",
    "y=pulp.LpVariable('y',lowBound=0,cat='Continuous')\n",
    "\n",
    "#Objective function\n",
    "mi_lp_problema+=x+2*y\n",
    "\n",
    "#Constraints\n",
    "mi_lp_problema+=3*x+4*y>=1\n",
    "mi_lp_problema+=2*x+5*y>=2"
   ]
  },
  {
   "cell_type": "code",
   "execution_count": 33,
   "metadata": {},
   "outputs": [
    {
     "data": {
      "text/plain": [
       "Mi LP problema:\n",
       "MINIMIZE\n",
       "1*x + 2*y + 0\n",
       "SUBJECT TO\n",
       "_C1: 3 x + 4 y >= 1\n",
       "\n",
       "_C2: 2 x + 5 y >= 2\n",
       "\n",
       "VARIABLES\n",
       "x Continuous\n",
       "y Continuous"
      ]
     },
     "execution_count": 33,
     "metadata": {},
     "output_type": "execute_result"
    }
   ],
   "source": [
    "mi_lp_problema"
   ]
  },
  {
   "cell_type": "code",
   "execution_count": 37,
   "metadata": {},
   "outputs": [
    {
     "data": {
      "text/plain": [
       "'Optimal'"
      ]
     },
     "execution_count": 37,
     "metadata": {},
     "output_type": "execute_result"
    }
   ],
   "source": [
    "mi_lp_problema.solve()\n",
    "pulp.LpStatus[mi_lp_problema.status]"
   ]
  },
  {
   "cell_type": "code",
   "execution_count": 40,
   "metadata": {},
   "outputs": [
    {
     "name": "stdout",
     "output_type": "stream",
     "text": [
      "x=0.0\n",
      "y=0.4\n"
     ]
    }
   ],
   "source": [
    "for variable in mi_lp_problema.variables():\n",
    "    print (\"{}={}\".format(variable.name, variable.varValue))"
   ]
  },
  {
   "cell_type": "markdown",
   "metadata": {},
   "source": [
    "# Utilizando scipy.optimize\n"
   ]
  },
  {
   "cell_type": "code",
   "execution_count": 41,
   "metadata": {},
   "outputs": [],
   "source": [
    "from scipy.optimize import linprog"
   ]
  },
  {
   "cell_type": "code",
   "execution_count": 43,
   "metadata": {},
   "outputs": [
    {
     "name": "stdout",
     "output_type": "stream",
     "text": [
      "Optimization terminated successfully.\n",
      "         Current function value: 0.800000    \n",
      "         Iterations: 2\n",
      "     fun: 0.8\n",
      " message: 'Optimization terminated successfully.'\n",
      "     nit: 2\n",
      "   slack: array([0.6, 0. ])\n",
      "  status: 0\n",
      " success: True\n",
      "       x: array([0. , 0.4])\n"
     ]
    }
   ],
   "source": [
    "c=[1,2]\n",
    "A=[[-3,-4],\n",
    "   [-2,-5]]\n",
    "b=[-1,-2]\n",
    "\n",
    "x0_bounds=(0,None)\n",
    "x1_bounds=(0, None)\n",
    "\n",
    "res=linprog(c,A_ub=A,b_ub=b,bounds=(x0_bounds,x1_bounds),\n",
    "           options={\"disp\":True})\n",
    "print (res)\n"
   ]
  },
  {
   "cell_type": "markdown",
   "metadata": {},
   "source": [
    "# Resolver con PULP"
   ]
  },
  {
   "cell_type": "code",
   "execution_count": 46,
   "metadata": {},
   "outputs": [],
   "source": [
    "mi_lp_problema=pulp.LpProblem(\"Mi LP problema\",pulp.LpMinimize)\n",
    "x=pulp.LpVariable('x',lowBound=0,cat='Continuous')\n",
    "y=pulp.LpVariable('y',lowBound=0,cat='Continuous')\n",
    "\n",
    "#Objective function\n",
    "mi_lp_problema+=2*x+y\n",
    "\n",
    "#Constraints\n",
    "mi_lp_problema+=x*-1+y<=1\n",
    "mi_lp_problema+=x+y>=2\n",
    "mi_lp_problema+=y>=0\n",
    "mi_lp_problema+=x-2*y<=4\n",
    "\n"
   ]
  },
  {
   "cell_type": "code",
   "execution_count": 47,
   "metadata": {},
   "outputs": [
    {
     "data": {
      "text/plain": [
       "Mi LP problema:\n",
       "MINIMIZE\n",
       "2*x + 1*y + 0\n",
       "SUBJECT TO\n",
       "_C1: - x + y <= 1\n",
       "\n",
       "_C2: x + y >= 2\n",
       "\n",
       "_C3: y >= 0\n",
       "\n",
       "_C4: x - 2 y <= 4\n",
       "\n",
       "VARIABLES\n",
       "x Continuous\n",
       "y Continuous"
      ]
     },
     "execution_count": 47,
     "metadata": {},
     "output_type": "execute_result"
    }
   ],
   "source": [
    "mi_lp_problema"
   ]
  },
  {
   "cell_type": "code",
   "execution_count": 48,
   "metadata": {},
   "outputs": [
    {
     "data": {
      "text/plain": [
       "'Optimal'"
      ]
     },
     "execution_count": 48,
     "metadata": {},
     "output_type": "execute_result"
    }
   ],
   "source": [
    "mi_lp_problema.solve()\n",
    "pulp.LpStatus[mi_lp_problema.status]"
   ]
  },
  {
   "cell_type": "code",
   "execution_count": 49,
   "metadata": {},
   "outputs": [
    {
     "name": "stdout",
     "output_type": "stream",
     "text": [
      "x=0.5\n",
      "y=1.5\n"
     ]
    }
   ],
   "source": [
    "for variable in mi_lp_problema.variables():\n",
    "    print (\"{}={}\".format(variable.name, variable.varValue))"
   ]
  },
  {
   "cell_type": "code",
   "execution_count": null,
   "metadata": {},
   "outputs": [],
   "source": []
  }
 ],
 "metadata": {
  "kernelspec": {
   "display_name": "Python 3",
   "language": "python",
   "name": "python3"
  },
  "language_info": {
   "codemirror_mode": {
    "name": "ipython",
    "version": 3
   },
   "file_extension": ".py",
   "mimetype": "text/x-python",
   "name": "python",
   "nbconvert_exporter": "python",
   "pygments_lexer": "ipython3",
   "version": "3.6.5"
  }
 },
 "nbformat": 4,
 "nbformat_minor": 2
}
