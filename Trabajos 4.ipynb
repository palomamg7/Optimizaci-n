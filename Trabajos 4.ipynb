{
 "cells": [
  {
   "cell_type": "code",
   "execution_count": 1,
   "metadata": {},
   "outputs": [],
   "source": [
    "%matplotlib notebook\n",
    "from sympy import *\n",
    "import numpy as np\n",
    "import matplotlib.pyplot as plt\n",
    "init_printing ()"
   ]
  },
  {
   "cell_type": "code",
   "execution_count": 3,
   "metadata": {},
   "outputs": [
    {
     "data": {
      "image/png": "[encoded data removed]",
      "text/latex": [
       "$$\\left ( x, \\quad y\\right )$$"
      ],
      "text/plain": [
       "(x, y)"
      ]
     },
     "execution_count": 3,
     "metadata": {},
     "output_type": "execute_result"
    }
   ],
   "source": [
    "var(\"x y\")"
   ]
  },
  {
   "cell_type": "code",
   "execution_count": 6,
   "metadata": {},
   "outputs": [],
   "source": [
    "from scipy.optimize import linprog?\n"
   ]
  },
  {
   "cell_type": "code",
   "execution_count": null,
   "metadata": {},
   "outputs": [],
   "source": [
    "from scipy.optimize import linprog"
   ]
  },
  {
   "cell_type": "code",
   "execution_count": 15,
   "metadata": {},
   "outputs": [
    {
     "name": "stdout",
     "output_type": "stream",
     "text": [
      "Optimization terminated successfully.\n",
      "         Current function value: -22.000000  \n",
      "         Iterations: 1\n"
     ]
    },
    {
     "data": {
      "text/plain": [
       "     fun: -22.0\n",
       " message: 'Optimization terminated successfully.'\n",
       "     nit: 1\n",
       "   slack: array([39.,  0.])\n",
       "  status: 0\n",
       " success: True\n",
       "       x: array([10., -3.])"
      ]
     },
     "execution_count": 15,
     "metadata": {},
     "output_type": "execute_result"
    }
   ],
   "source": [
    "c=[-1,4]\n",
    "A=[[-3,1],[1,2]]\n",
    "b=[6,4]\n",
    "x0_bounds=(None, None)\n",
    "x1_bounds=(-3, None)\n",
    "res=linprog(c, A_ub=A,b_ub=b,bounds=(x0_bounds, x1_bounds), options={\"disp\":True})\n",
    "res\n",
    "\n",
    "\n"
   ]
  },
  {
   "cell_type": "markdown",
   "metadata": {},
   "source": [
    "# Problema Inversiones"
   ]
  },
  {
   "cell_type": "code",
   "execution_count": 41,
   "metadata": {},
   "outputs": [],
   "source": [
    "from pulp import *"
   ]
  },
  {
   "cell_type": "code",
   "execution_count": 42,
   "metadata": {},
   "outputs": [
    {
     "data": {
      "image/png": "[encoded data removed]",
      "text/latex": [
       "$$\\left ( x_{1}, \\quad x_{2}, \\quad x_{3}, \\quad x_{4}, \\quad x_{5}, \\quad x_{6}\\right )$$"
      ],
      "text/plain": [
       "(x₁, x₂, x₃, x₄, x₅, x₆)"
      ]
     },
     "execution_count": 42,
     "metadata": {},
     "output_type": "execute_result"
    }
   ],
   "source": [
    "var(\"x1,x2,x3,x4,x5,x6\")"
   ]
  },
  {
   "cell_type": "code",
   "execution_count": 52,
   "metadata": {},
   "outputs": [],
   "source": [
    "LpVariable()"
   ]
  },
  {
   "cell_type": "code",
   "execution_count": 63,
   "metadata": {},
   "outputs": [],
   "source": [
    "mi_lp_bonos=pulp.LpProblem(\"Mi LP bonos\",pulp.LpMaximize)\n",
    "x1=pulp.LpVariable('x1',lowBound=0, upBound=750000*0.25 ,cat='Continuous')\n",
    "x2=pulp.LpVariable('x2',lowBound=0,upBound=750000*0.25 ,cat='Continuous')\n",
    "x3=pulp.LpVariable('x3',lowBound=0,upBound=750000*0.25 ,cat='Continuous')\n",
    "x4=pulp.LpVariable('x4',lowBound=0,upBound=750000*0.25 ,cat='Continuous')\n",
    "x5=pulp.LpVariable('x5',lowBound=0,upBound=750000*0.25 ,cat='Continuous')\n",
    "x6=pulp.LpVariable('x6',lowBound=0,upBound=750000*0.25 ,cat='Continuous')\n",
    "\n",
    "\n",
    "#Objective function\n",
    "mi_lp_bonos+=(8.65*x1 +9.5*x2 +10*x3 +8.75*x4 +9.25*x5 +9*x6)/100\n",
    "\n",
    "#Constraints\n",
    "mi_lp_bonos+= x1+x2+x4+x6>= 750000*0.5\n",
    "mi_lp_bonos+= x2+x3+x5<=750000*0.35\n",
    "mi_lp_bonos+= x1+x2+x3+x4+x5+x6<=750000*0.25\n",
    "mi_lp_bonos+= 0<=x1<=750000*0.25\n",
    "mi_lp_bonos+= 0<=x2<=750000*0.25\n",
    "mi_lp_bonos+= 0<=x3<=750000*0.25\n",
    "mi_lp_bonos+= 0<=x4<=750000*0.25\n",
    "mi_lp_bonos+= 0<=x5<=750000*0.25\n",
    "mi_lp_bonos+= 0<=x6<=750000*0.25\n"
   ]
  },
  {
   "cell_type": "code",
   "execution_count": 64,
   "metadata": {},
   "outputs": [
    {
     "data": {
      "text/plain": [
       "Mi LP bonos:\n",
       "MAXIMIZE\n",
       "0.08650000000000001*x1 + 0.095*x2 + 0.1*x3 + 0.0875*x4 + 0.0925*x5 + 0.09*x6 + 0.0\n",
       "SUBJECT TO\n",
       "_C1: x1 + x2 + x4 + x6 >= 375000\n",
       "\n",
       "_C2: x2 + x3 + x5 <= 262500\n",
       "\n",
       "_C3: x1 + x2 + x3 + x4 + x5 + x6 <= 187500\n",
       "\n",
       "_C4: x1 <= 187500\n",
       "\n",
       "_C5: x2 <= 187500\n",
       "\n",
       "_C6: x3 <= 187500\n",
       "\n",
       "_C7: x4 <= 187500\n",
       "\n",
       "_C8: x5 <= 187500\n",
       "\n",
       "_C9: x6 <= 187500\n",
       "\n",
       "VARIABLES\n",
       "x1 <= 187500 Continuous\n",
       "x2 <= 187500 Continuous\n",
       "x3 <= 187500 Continuous\n",
       "x4 <= 187500 Continuous\n",
       "x5 <= 187500 Continuous\n",
       "x6 <= 187500 Continuous"
      ]
     },
     "execution_count": 64,
     "metadata": {},
     "output_type": "execute_result"
    }
   ],
   "source": [
    "mi_lp_bonos"
   ]
  },
  {
   "cell_type": "code",
   "execution_count": 65,
   "metadata": {},
   "outputs": [
    {
     "data": {
      "text/plain": [
       "'Infeasible'"
      ]
     },
     "execution_count": 65,
     "metadata": {},
     "output_type": "execute_result"
    }
   ],
   "source": [
    "mi_lp_bonos.solve()\n",
    "pulp.LpStatus[mi_lp_bonos.status]"
   ]
  },
  {
   "cell_type": "code",
   "execution_count": 59,
   "metadata": {},
   "outputs": [
    {
     "name": "stdout",
     "output_type": "stream",
     "text": [
      "x1=0.0\n",
      "x2=187500.0\n",
      "x3=-187500.0\n",
      "x4=0.0\n",
      "x5=0.0\n",
      "x6=187500.0\n"
     ]
    }
   ],
   "source": [
    "for variable in mi_lp_bonos.variables():\n",
    "    print (\"{}={}\".format(variable.name, variable.varValue))"
   ]
  },
  {
   "cell_type": "markdown",
   "metadata": {},
   "source": [
    "# Problema de Transporte"
   ]
  },
  {
   "cell_type": "code",
   "execution_count": null,
   "metadata": {},
   "outputs": [],
   "source": []
  }
 ],
 "metadata": {
  "kernelspec": {
   "display_name": "Python 3",
   "language": "python",
   "name": "python3"
  },
  "language_info": {
   "codemirror_mode": {
    "name": "ipython",
    "version": 3
   },
   "file_extension": ".py",
   "mimetype": "text/x-python",
   "name": "python",
   "nbconvert_exporter": "python",
   "pygments_lexer": "ipython3",
   "version": "3.6.5"
  }
 },
 "nbformat": 4,
 "nbformat_minor": 2
}
